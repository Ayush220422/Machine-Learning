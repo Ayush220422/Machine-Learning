{
 "cells": [
  {
   "cell_type": "code",
   "execution_count": 12,
   "id": "05df9126-9622-4cb9-ba67-15b0188e72b4",
   "metadata": {},
   "outputs": [],
   "source": [
    "import numpy as np\n",
    "import pandas as pd\n",
    "import matplotlib.pyplot as plt\n",
    "\n",
    "import plotly.express as px\n",
    "import plotly.graph_objects as go\n",
    "\n"
   ]
  },
  {
   "cell_type": "code",
   "execution_count": 13,
   "id": "caf56a12-f4b4-41f6-b394-f0ed7fec03eb",
   "metadata": {},
   "outputs": [],
   "source": [
    "from sklearn.datasets import make_regression\n",
    "from sklearn.metrics import mean_absolute_error,mean_squared_error,r2_score"
   ]
  },
  {
   "cell_type": "code",
   "execution_count": 14,
   "id": "2b56fb03-db3e-4ed3-ad0e-daf01211ec92",
   "metadata": {},
   "outputs": [],
   "source": [
    "# x,y=make_regression(n_samples=100,n_features=2,n_informative=2,n_targets=1,noise=50)\n",
    "\n",
    "x,y=make_regression(n_samples=100,n_features=2,n_informative=2,n_targets=1,noise=50)\n",
    "\n",
    "# here, u will have to drop the uninformative one to train the model properly\n",
    "\n",
    "# here x stores the features data and y stores the target data\n"
   ]
  },
  {
   "cell_type": "code",
   "execution_count": 15,
   "id": "ee222d2f-d0be-467f-a6ed-54080195071c",
   "metadata": {},
   "outputs": [
    {
     "data": {
      "text/html": [
       "<div>\n",
       "<style scoped>\n",
       "    .dataframe tbody tr th:only-of-type {\n",
       "        vertical-align: middle;\n",
       "    }\n",
       "\n",
       "    .dataframe tbody tr th {\n",
       "        vertical-align: top;\n",
       "    }\n",
       "\n",
       "    .dataframe thead th {\n",
       "        text-align: right;\n",
       "    }\n",
       "</style>\n",
       "<table border=\"1\" class=\"dataframe\">\n",
       "  <thead>\n",
       "    <tr style=\"text-align: right;\">\n",
       "      <th></th>\n",
       "      <th>col1</th>\n",
       "      <th>col2</th>\n",
       "      <th>target</th>\n",
       "    </tr>\n",
       "  </thead>\n",
       "  <tbody>\n",
       "    <tr>\n",
       "      <th>0</th>\n",
       "      <td>-0.546955</td>\n",
       "      <td>1.121311</td>\n",
       "      <td>-37.128740</td>\n",
       "    </tr>\n",
       "    <tr>\n",
       "      <th>1</th>\n",
       "      <td>-1.080234</td>\n",
       "      <td>0.509744</td>\n",
       "      <td>-125.014332</td>\n",
       "    </tr>\n",
       "    <tr>\n",
       "      <th>2</th>\n",
       "      <td>-0.699304</td>\n",
       "      <td>-0.622710</td>\n",
       "      <td>-76.225657</td>\n",
       "    </tr>\n",
       "    <tr>\n",
       "      <th>3</th>\n",
       "      <td>-2.435705</td>\n",
       "      <td>0.892139</td>\n",
       "      <td>-43.271477</td>\n",
       "    </tr>\n",
       "    <tr>\n",
       "      <th>4</th>\n",
       "      <td>-0.755785</td>\n",
       "      <td>0.323549</td>\n",
       "      <td>-59.627327</td>\n",
       "    </tr>\n",
       "    <tr>\n",
       "      <th>...</th>\n",
       "      <td>...</td>\n",
       "      <td>...</td>\n",
       "      <td>...</td>\n",
       "    </tr>\n",
       "    <tr>\n",
       "      <th>95</th>\n",
       "      <td>0.190470</td>\n",
       "      <td>0.871259</td>\n",
       "      <td>49.304178</td>\n",
       "    </tr>\n",
       "    <tr>\n",
       "      <th>96</th>\n",
       "      <td>-0.484103</td>\n",
       "      <td>-0.563952</td>\n",
       "      <td>-23.956680</td>\n",
       "    </tr>\n",
       "    <tr>\n",
       "      <th>97</th>\n",
       "      <td>1.364790</td>\n",
       "      <td>-0.921239</td>\n",
       "      <td>103.066830</td>\n",
       "    </tr>\n",
       "    <tr>\n",
       "      <th>98</th>\n",
       "      <td>-0.769369</td>\n",
       "      <td>0.920766</td>\n",
       "      <td>-40.749750</td>\n",
       "    </tr>\n",
       "    <tr>\n",
       "      <th>99</th>\n",
       "      <td>-0.873799</td>\n",
       "      <td>0.082593</td>\n",
       "      <td>-73.521201</td>\n",
       "    </tr>\n",
       "  </tbody>\n",
       "</table>\n",
       "<p>100 rows × 3 columns</p>\n",
       "</div>"
      ],
      "text/plain": [
       "        col1      col2      target\n",
       "0  -0.546955  1.121311  -37.128740\n",
       "1  -1.080234  0.509744 -125.014332\n",
       "2  -0.699304 -0.622710  -76.225657\n",
       "3  -2.435705  0.892139  -43.271477\n",
       "4  -0.755785  0.323549  -59.627327\n",
       "..       ...       ...         ...\n",
       "95  0.190470  0.871259   49.304178\n",
       "96 -0.484103 -0.563952  -23.956680\n",
       "97  1.364790 -0.921239  103.066830\n",
       "98 -0.769369  0.920766  -40.749750\n",
       "99 -0.873799  0.082593  -73.521201\n",
       "\n",
       "[100 rows x 3 columns]"
      ]
     },
     "execution_count": 15,
     "metadata": {},
     "output_type": "execute_result"
    }
   ],
   "source": [
    "df=pd.DataFrame({'col1':x[:,0],'col2':x[:,1],'target':y})\n",
    "df"
   ]
  },
  {
   "cell_type": "code",
   "execution_count": 16,
   "id": "61e7fb92-f617-4f01-b1d1-935dbf90e17f",
   "metadata": {},
   "outputs": [
    {
     "data": {
      "application/vnd.plotly.v1+json": {
       "config": {
        "plotlyServerURL": "https://plot.ly"
       },
       "data": [
        {
         "hovertemplate": "col1=%{x}<br>col2=%{y}<br>target=%{z}<extra></extra>",
         "legendgroup": "",
         "marker": {
          "color": "#636efa",
          "symbol": "circle"
         },
         "mode": "markers",
         "name": "",
         "scene": "scene",
         "showlegend": false,
         "type": "scatter3d",
         "x": {
          "bdata": "+0iDGqeA4b8tRHKio0jxv9SUFkazYOa/GMf16FJ8A8AZbBc3Yy/ov1jn4ZnTl9U/M7rQ8W0P5D9aDc3Za7Lgvw/mmV806OW/GBgAB21L8D/G5SDa8hT5P0ZDW7QWAt2/A9Bje2jV8D91TCDgsvL8v/hTjZuP/+U/4bxo9isXwz8HFgPGvf3svw5dVFtgrOk/hl62PU7H+b/1feMXZQ7rv/6US9GA49S/A9UjOXv82j/l5cipQLLnP9oFXEfbFeu/U7iVXe2X2z/HGx2qzR76v6MA6Chrdaw/X+753MOk6j9thGVJtUwDQMGzeBAm3vI/eqXhOyoD5r+qXTFKQzK4v0w/TOMz0pE/BoGii4gi5L/rsjnd2AnNv2ksQOnqBdq/gTpUhD9StD88T/Rsy3b2P4x26G5NrOY/ofiXnIoD7L8Gu5MUGjO8P96Cxx0GsOA/wNzch1el6r8NJo52FEnwP0cFX8LaJus/Vazq/uKz2T99FgSuMgP6P2r2eOmThPS/ARrmsiXbwj96t6YLsHHhPxGA2GPqRPY/aAUf8v3g8780gw71pxbWvzPpV0PAJfK/ojDUpSb55r8YFn+KFGf3v8JiBGOqYeu/rNIaL+1q2r+rdqx/mKfmv17N6AD9ytg/+QI6KYTM/D8Own3m3t/Mv4H1W6gAsARAvVDbEFEC3j/Yz+jIaLHgPzK74Byrzci/Ti46GN5D/T9vFmGdsqK3v7n6QCeR7cE/KPvEBnBq1j8xzyoJNkfvv7aGSIq5u/Q/YgtasTPCvT+3wbrg66jXP8vWO20nPsq/kBYTmuX54D/1wwtsWpvLvzZlWI3Gg5y/OpQBEVmc1r9yUuLsmKDCP/ChJFS8oPC/V4+4i+k96L96Zwl973riP1AsftbDoQTArEV1K6jn3j8EBEx09ivXP2QQCLVA4fA/Wt2eXyxf6D+iuc8LujfnP+c3q41y9vg/Os0uBfYR7T+fISRiTYfjvzCqGm6sRf6/+jhib3PuAMDtghw1+QPgv0yNwW5QYcg/AXVXb4r73r/az4ErLtb1P3zPRX2snui/PQxSXij2678=",
          "dtype": "f8"
         },
         "y": {
          "bdata": "QGFiU+Tw8T8xUYbL0U/gP0rGSmw97eO/wCZrh2eM7D/UomyJBrXUPykXEKbsoP4/PaIr8A3k1j+XVKMOQpbmv/JtxHBMT/w/emGvKyLT679/NKxm/1fsv8hZyW73gwLAqVEegubG5b9Dj1uNLMvWv7E2VkLbx9G/yLKg/mhu0L95iPkmNNXpP0aNh8DtfcW/Tg0PwOfQ3T8BZp/OmKz8vyTtSOJq5to/SmklwKHy8r/vTvsnHwPYP16AaNmmW/I/SgQfjl5lzb8+nt2na0bvv3SpTlnXFOW/0REn3tCP/z+GqODYbW3Lv75DhgLive2/QKIZLEJf2D/iu3gZSCDyvzxo7rvv7fU/a4X0XEeaCEBsOVytNS/Sv++NRA6PUO2/kFomMaNi5r+KwwYfJHDjPwEuCZBNWe2/OAg5ophU6D8ej37ZSjbzv/XyaaB0kPe/IvlB28wj3b/ig+orUiDIv7KHy4XnguI/lsjnZoY+8j+KvhgNiwH1vzcei525neS/No0Ddqqp4b+yFn4Anqjtv3U0AH8OiPa/MkNLLtVw9L+ifxT249naP/XSNUL0y/M/rJiSRztC9r962OpIVNECwMDyDDZs+tW//zACg09X6r+08ZobUX6JP2qr78mwb/Q/Q6fl/ZhEy79Ml53lfXbMP4At9zDuDOE/nR+e2EyX4r+2h+CwKavdv363ktMYR+2/mGN3I8Q0AsDByi8JnfL2P1cqsl0Yr8C/xsmKeHMIwb/aRsPYkKbdPxUfLV31gNM/8yT/lbbX4j/iwoCASUr2PwGov8z15+o/LKXqsvN12j/xSx88LSTfP1sSqOuBCvE/9YOFLQuixz9HcRUUJGTnv73+QMN8tM2/ecq7yiB+3T+YkcGaGeziv28HZxZG+dw/tA3uhYnF5z9zfghbGcHoP7iHbnY2nLc/b/zJSEF36D89OyBYkMzgv/3w/D0d9dG/DjtQeRN86L/CZMZg1Orov26V8/Z/FNa/9zFGoUQF8r/QZymqvSKvP+e319da4es/L6KdGuYL4r+mCtUGy3rtv071qgTrdu0/nbPOi8sktT8=",
          "dtype": "f8"
         },
         "z": {
          "bdata": "rq6JiXqQQsCOSTnP6kBfwDnbdShxDlPALuCYwb+iRcDSzD1BTNBNwPHkyvYlq1dA1IpR4ePjQECIgARuDfNcwHxmxlbGSUTAuSweuxtzRUD52MD2SZ5aQH1qoUlLeVrAHMGMfXWwQ0CzhQnJu3JgwOCunsTTlEZAiXnjWKUSTEAQt02EbZJYwPBY9FY6KWFAxeU8LarmUsCP5v760LpZwAz4L3FSc0LAwHqhEGfX5b+4e/H8RhpRQLZFoXr87U/A+p8KBg+pNUD9XdC1lrJjwBOyd7gtyCzAIBpMG0f1X0ArIGQCzhRoQAILA8Hoh1BASoV+ovYQQMCk60VFuDRSwKiAR8ZClDlAjmCo9KuRSkCs8vixzmlGQPoJG+Iudk7A81W/l4bbJcBQSEurdaouQFpUih0MIEdA9yrjKykOTsBn+owGLPIxQOTugaURkjbAPrR/UOieVMC/A/fPaElZQN9UKAhrq0BAXm6qB7LnRECgIKCJT6wUwCFhTmkL42bAp4s6B0UWRMDY/w/ChPoaQFRyPO3jHVpAiFmR2boEaMD2KPgw4tcnQDLcieyOcWDASfPA2xEBWMCOC0asLS1qwJby2VumS07A+x6G7+0LVMAhAWxiaWpIwNDU3YpsVyJAaUWjZPNGYUDLS1uwGXhHwCTsm0JwHGVAHAkYoI13MMD3yHncC/ZWQH5yO0eEbGbA5e4wVKK1VkB2NDUyL8s7wID++e0nFD3AfUc3lgTMVUAT9+SYM4RmwNr0JgTMcGNAagqV4VEiTUCHZgeu7TZTQFx+pLQTbkLA5C2EuN1rN0C8KIYdX804QJwKuq5VEyhAP/FnoieHIsCteCny/ZhSwMK4KpkgsVLABtGvx7/yMcBkbFvQ1hNAwAI1xe723WzAXN14kIeeYEB6ltEcBKJCQL1zyzuygVVAwplo2974UMD+evN01b1bQJ7P2aWAGFhAunE1mDivVkBsi9BkhC1jwGwj11FytVHAdURwrimJZMDd0hjWZO9OwLF1TU/vpkhAKWGb9uj0N8BPcYvyRsRZQIBHFMz3X0TA3JpGWlthUsA=",
          "dtype": "f8"
         }
        }
       ],
       "layout": {
        "legend": {
         "tracegroupgap": 0
        },
        "margin": {
         "t": 60
        },
        "scene": {
         "domain": {
          "x": [
           0,
           1
          ],
          "y": [
           0,
           1
          ]
         },
         "xaxis": {
          "title": {
           "text": "col1"
          }
         },
         "yaxis": {
          "title": {
           "text": "col2"
          }
         },
         "zaxis": {
          "title": {
           "text": "target"
          }
         }
        },
        "template": {
         "data": {
          "bar": [
           {
            "error_x": {
             "color": "#2a3f5f"
            },
            "error_y": {
             "color": "#2a3f5f"
            },
            "marker": {
             "line": {
              "color": "#E5ECF6",
              "width": 0.5
             },
             "pattern": {
              "fillmode": "overlay",
              "size": 10,
              "solidity": 0.2
             }
            },
            "type": "bar"
           }
          ],
          "barpolar": [
           {
            "marker": {
             "line": {
              "color": "#E5ECF6",
              "width": 0.5
             },
             "pattern": {
              "fillmode": "overlay",
              "size": 10,
              "solidity": 0.2
             }
            },
            "type": "barpolar"
           }
          ],
          "carpet": [
           {
            "aaxis": {
             "endlinecolor": "#2a3f5f",
             "gridcolor": "white",
             "linecolor": "white",
             "minorgridcolor": "white",
             "startlinecolor": "#2a3f5f"
            },
            "baxis": {
             "endlinecolor": "#2a3f5f",
             "gridcolor": "white",
             "linecolor": "white",
             "minorgridcolor": "white",
             "startlinecolor": "#2a3f5f"
            },
            "type": "carpet"
           }
          ],
          "choropleth": [
           {
            "colorbar": {
             "outlinewidth": 0,
             "ticks": ""
            },
            "type": "choropleth"
           }
          ],
          "contour": [
           {
            "colorbar": {
             "outlinewidth": 0,
             "ticks": ""
            },
            "colorscale": [
             [
              0,
              "#0d0887"
             ],
             [
              0.1111111111111111,
              "#46039f"
             ],
             [
              0.2222222222222222,
              "#7201a8"
             ],
             [
              0.3333333333333333,
              "#9c179e"
             ],
             [
              0.4444444444444444,
              "#bd3786"
             ],
             [
              0.5555555555555556,
              "#d8576b"
             ],
             [
              0.6666666666666666,
              "#ed7953"
             ],
             [
              0.7777777777777778,
              "#fb9f3a"
             ],
             [
              0.8888888888888888,
              "#fdca26"
             ],
             [
              1,
              "#f0f921"
             ]
            ],
            "type": "contour"
           }
          ],
          "contourcarpet": [
           {
            "colorbar": {
             "outlinewidth": 0,
             "ticks": ""
            },
            "type": "contourcarpet"
           }
          ],
          "heatmap": [
           {
            "colorbar": {
             "outlinewidth": 0,
             "ticks": ""
            },
            "colorscale": [
             [
              0,
              "#0d0887"
             ],
             [
              0.1111111111111111,
              "#46039f"
             ],
             [
              0.2222222222222222,
              "#7201a8"
             ],
             [
              0.3333333333333333,
              "#9c179e"
             ],
             [
              0.4444444444444444,
              "#bd3786"
             ],
             [
              0.5555555555555556,
              "#d8576b"
             ],
             [
              0.6666666666666666,
              "#ed7953"
             ],
             [
              0.7777777777777778,
              "#fb9f3a"
             ],
             [
              0.8888888888888888,
              "#fdca26"
             ],
             [
              1,
              "#f0f921"
             ]
            ],
            "type": "heatmap"
           }
          ],
          "histogram": [
           {
            "marker": {
             "pattern": {
              "fillmode": "overlay",
              "size": 10,
              "solidity": 0.2
             }
            },
            "type": "histogram"
           }
          ],
          "histogram2d": [
           {
            "colorbar": {
             "outlinewidth": 0,
             "ticks": ""
            },
            "colorscale": [
             [
              0,
              "#0d0887"
             ],
             [
              0.1111111111111111,
              "#46039f"
             ],
             [
              0.2222222222222222,
              "#7201a8"
             ],
             [
              0.3333333333333333,
              "#9c179e"
             ],
             [
              0.4444444444444444,
              "#bd3786"
             ],
             [
              0.5555555555555556,
              "#d8576b"
             ],
             [
              0.6666666666666666,
              "#ed7953"
             ],
             [
              0.7777777777777778,
              "#fb9f3a"
             ],
             [
              0.8888888888888888,
              "#fdca26"
             ],
             [
              1,
              "#f0f921"
             ]
            ],
            "type": "histogram2d"
           }
          ],
          "histogram2dcontour": [
           {
            "colorbar": {
             "outlinewidth": 0,
             "ticks": ""
            },
            "colorscale": [
             [
              0,
              "#0d0887"
             ],
             [
              0.1111111111111111,
              "#46039f"
             ],
             [
              0.2222222222222222,
              "#7201a8"
             ],
             [
              0.3333333333333333,
              "#9c179e"
             ],
             [
              0.4444444444444444,
              "#bd3786"
             ],
             [
              0.5555555555555556,
              "#d8576b"
             ],
             [
              0.6666666666666666,
              "#ed7953"
             ],
             [
              0.7777777777777778,
              "#fb9f3a"
             ],
             [
              0.8888888888888888,
              "#fdca26"
             ],
             [
              1,
              "#f0f921"
             ]
            ],
            "type": "histogram2dcontour"
           }
          ],
          "mesh3d": [
           {
            "colorbar": {
             "outlinewidth": 0,
             "ticks": ""
            },
            "type": "mesh3d"
           }
          ],
          "parcoords": [
           {
            "line": {
             "colorbar": {
              "outlinewidth": 0,
              "ticks": ""
             }
            },
            "type": "parcoords"
           }
          ],
          "pie": [
           {
            "automargin": true,
            "type": "pie"
           }
          ],
          "scatter": [
           {
            "fillpattern": {
             "fillmode": "overlay",
             "size": 10,
             "solidity": 0.2
            },
            "type": "scatter"
           }
          ],
          "scatter3d": [
           {
            "line": {
             "colorbar": {
              "outlinewidth": 0,
              "ticks": ""
             }
            },
            "marker": {
             "colorbar": {
              "outlinewidth": 0,
              "ticks": ""
             }
            },
            "type": "scatter3d"
           }
          ],
          "scattercarpet": [
           {
            "marker": {
             "colorbar": {
              "outlinewidth": 0,
              "ticks": ""
             }
            },
            "type": "scattercarpet"
           }
          ],
          "scattergeo": [
           {
            "marker": {
             "colorbar": {
              "outlinewidth": 0,
              "ticks": ""
             }
            },
            "type": "scattergeo"
           }
          ],
          "scattergl": [
           {
            "marker": {
             "colorbar": {
              "outlinewidth": 0,
              "ticks": ""
             }
            },
            "type": "scattergl"
           }
          ],
          "scattermap": [
           {
            "marker": {
             "colorbar": {
              "outlinewidth": 0,
              "ticks": ""
             }
            },
            "type": "scattermap"
           }
          ],
          "scattermapbox": [
           {
            "marker": {
             "colorbar": {
              "outlinewidth": 0,
              "ticks": ""
             }
            },
            "type": "scattermapbox"
           }
          ],
          "scatterpolar": [
           {
            "marker": {
             "colorbar": {
              "outlinewidth": 0,
              "ticks": ""
             }
            },
            "type": "scatterpolar"
           }
          ],
          "scatterpolargl": [
           {
            "marker": {
             "colorbar": {
              "outlinewidth": 0,
              "ticks": ""
             }
            },
            "type": "scatterpolargl"
           }
          ],
          "scatterternary": [
           {
            "marker": {
             "colorbar": {
              "outlinewidth": 0,
              "ticks": ""
             }
            },
            "type": "scatterternary"
           }
          ],
          "surface": [
           {
            "colorbar": {
             "outlinewidth": 0,
             "ticks": ""
            },
            "colorscale": [
             [
              0,
              "#0d0887"
             ],
             [
              0.1111111111111111,
              "#46039f"
             ],
             [
              0.2222222222222222,
              "#7201a8"
             ],
             [
              0.3333333333333333,
              "#9c179e"
             ],
             [
              0.4444444444444444,
              "#bd3786"
             ],
             [
              0.5555555555555556,
              "#d8576b"
             ],
             [
              0.6666666666666666,
              "#ed7953"
             ],
             [
              0.7777777777777778,
              "#fb9f3a"
             ],
             [
              0.8888888888888888,
              "#fdca26"
             ],
             [
              1,
              "#f0f921"
             ]
            ],
            "type": "surface"
           }
          ],
          "table": [
           {
            "cells": {
             "fill": {
              "color": "#EBF0F8"
             },
             "line": {
              "color": "white"
             }
            },
            "header": {
             "fill": {
              "color": "#C8D4E3"
             },
             "line": {
              "color": "white"
             }
            },
            "type": "table"
           }
          ]
         },
         "layout": {
          "annotationdefaults": {
           "arrowcolor": "#2a3f5f",
           "arrowhead": 0,
           "arrowwidth": 1
          },
          "autotypenumbers": "strict",
          "coloraxis": {
           "colorbar": {
            "outlinewidth": 0,
            "ticks": ""
           }
          },
          "colorscale": {
           "diverging": [
            [
             0,
             "#8e0152"
            ],
            [
             0.1,
             "#c51b7d"
            ],
            [
             0.2,
             "#de77ae"
            ],
            [
             0.3,
             "#f1b6da"
            ],
            [
             0.4,
             "#fde0ef"
            ],
            [
             0.5,
             "#f7f7f7"
            ],
            [
             0.6,
             "#e6f5d0"
            ],
            [
             0.7,
             "#b8e186"
            ],
            [
             0.8,
             "#7fbc41"
            ],
            [
             0.9,
             "#4d9221"
            ],
            [
             1,
             "#276419"
            ]
           ],
           "sequential": [
            [
             0,
             "#0d0887"
            ],
            [
             0.1111111111111111,
             "#46039f"
            ],
            [
             0.2222222222222222,
             "#7201a8"
            ],
            [
             0.3333333333333333,
             "#9c179e"
            ],
            [
             0.4444444444444444,
             "#bd3786"
            ],
            [
             0.5555555555555556,
             "#d8576b"
            ],
            [
             0.6666666666666666,
             "#ed7953"
            ],
            [
             0.7777777777777778,
             "#fb9f3a"
            ],
            [
             0.8888888888888888,
             "#fdca26"
            ],
            [
             1,
             "#f0f921"
            ]
           ],
           "sequentialminus": [
            [
             0,
             "#0d0887"
            ],
            [
             0.1111111111111111,
             "#46039f"
            ],
            [
             0.2222222222222222,
             "#7201a8"
            ],
            [
             0.3333333333333333,
             "#9c179e"
            ],
            [
             0.4444444444444444,
             "#bd3786"
            ],
            [
             0.5555555555555556,
             "#d8576b"
            ],
            [
             0.6666666666666666,
             "#ed7953"
            ],
            [
             0.7777777777777778,
             "#fb9f3a"
            ],
            [
             0.8888888888888888,
             "#fdca26"
            ],
            [
             1,
             "#f0f921"
            ]
           ]
          },
          "colorway": [
           "#636efa",
           "#EF553B",
           "#00cc96",
           "#ab63fa",
           "#FFA15A",
           "#19d3f3",
           "#FF6692",
           "#B6E880",
           "#FF97FF",
           "#FECB52"
          ],
          "font": {
           "color": "#2a3f5f"
          },
          "geo": {
           "bgcolor": "white",
           "lakecolor": "white",
           "landcolor": "#E5ECF6",
           "showlakes": true,
           "showland": true,
           "subunitcolor": "white"
          },
          "hoverlabel": {
           "align": "left"
          },
          "hovermode": "closest",
          "mapbox": {
           "style": "light"
          },
          "paper_bgcolor": "white",
          "plot_bgcolor": "#E5ECF6",
          "polar": {
           "angularaxis": {
            "gridcolor": "white",
            "linecolor": "white",
            "ticks": ""
           },
           "bgcolor": "#E5ECF6",
           "radialaxis": {
            "gridcolor": "white",
            "linecolor": "white",
            "ticks": ""
           }
          },
          "scene": {
           "xaxis": {
            "backgroundcolor": "#E5ECF6",
            "gridcolor": "white",
            "gridwidth": 2,
            "linecolor": "white",
            "showbackground": true,
            "ticks": "",
            "zerolinecolor": "white"
           },
           "yaxis": {
            "backgroundcolor": "#E5ECF6",
            "gridcolor": "white",
            "gridwidth": 2,
            "linecolor": "white",
            "showbackground": true,
            "ticks": "",
            "zerolinecolor": "white"
           },
           "zaxis": {
            "backgroundcolor": "#E5ECF6",
            "gridcolor": "white",
            "gridwidth": 2,
            "linecolor": "white",
            "showbackground": true,
            "ticks": "",
            "zerolinecolor": "white"
           }
          },
          "shapedefaults": {
           "line": {
            "color": "#2a3f5f"
           }
          },
          "ternary": {
           "aaxis": {
            "gridcolor": "white",
            "linecolor": "white",
            "ticks": ""
           },
           "baxis": {
            "gridcolor": "white",
            "linecolor": "white",
            "ticks": ""
           },
           "bgcolor": "#E5ECF6",
           "caxis": {
            "gridcolor": "white",
            "linecolor": "white",
            "ticks": ""
           }
          },
          "title": {
           "x": 0.05
          },
          "xaxis": {
           "automargin": true,
           "gridcolor": "white",
           "linecolor": "white",
           "ticks": "",
           "title": {
            "standoff": 15
           },
           "zerolinecolor": "white",
           "zerolinewidth": 2
          },
          "yaxis": {
           "automargin": true,
           "gridcolor": "white",
           "linecolor": "white",
           "ticks": "",
           "title": {
            "standoff": 15
           },
           "zerolinecolor": "white",
           "zerolinewidth": 2
          }
         }
        }
       }
      },
      "image/png": "[encoded data removed]"
     },
     "metadata": {},
     "output_type": "display_data"
    }
   ],
   "source": [
    "fig=px.scatter_3d(df,x='col1',y='col2',z='target')\n",
    "fig.show()"
   ]
  },
  {
   "cell_type": "code",
   "execution_count": 17,
   "id": "c1cf05d1-4058-4508-bcc1-2c683094be6d",
   "metadata": {},
   "outputs": [],
   "source": [
    "from sklearn.model_selection import train_test_split\n",
    "\n",
    "x_test,x_train,y_test,y_train=train_test_split(x,y,test_size=0.3,random_state=2)"
   ]
  },
  {
   "cell_type": "code",
   "execution_count": 18,
   "id": "f22674eb-a826-4f6f-bf5e-d87d85af104a",
   "metadata": {},
   "outputs": [],
   "source": [
    "from sklearn.linear_model import LinearRegression\n",
    "lr=LinearRegression()"
   ]
  },
  {
   "cell_type": "code",
   "execution_count": 19,
   "id": "4b108f3b-3c73-44a4-80b0-da64675dcf87",
   "metadata": {},
   "outputs": [
    {
     "data": {
      "text/html": [
       "<style>#sk-container-id-2 {\n",
       "  /* Definition of color scheme common for light and dark mode */\n",
       "  --sklearn-color-text: #000;\n",
       "  --sklearn-color-text-muted: #666;\n",
       "  --sklearn-color-line: gray;\n",
       "  /* Definition of color scheme for unfitted estimators */\n",
       "  --sklearn-color-unfitted-level-0: #fff5e6;\n",
       "  --sklearn-color-unfitted-level-1: #f6e4d2;\n",
       "  --sklearn-color-unfitted-level-2: #ffe0b3;\n",
       "  --sklearn-color-unfitted-level-3: chocolate;\n",
       "  /* Definition of color scheme for fitted estimators */\n",
       "  --sklearn-color-fitted-level-0: #f0f8ff;\n",
       "  --sklearn-color-fitted-level-1: #d4ebff;\n",
       "  --sklearn-color-fitted-level-2: #b3dbfd;\n",
       "  --sklearn-color-fitted-level-3: cornflowerblue;\n",
       "\n",
       "  /* Specific color for light theme */\n",
       "  --sklearn-color-text-on-default-background: var(--sg-text-color, var(--theme-code-foreground, var(--jp-content-font-color1, black)));\n",
       "  --sklearn-color-background: var(--sg-background-color, var(--theme-background, var(--jp-layout-color0, white)));\n",
       "  --sklearn-color-border-box: var(--sg-text-color, var(--theme-code-foreground, var(--jp-content-font-color1, black)));\n",
       "  --sklearn-color-icon: #696969;\n",
       "\n",
       "  @media (prefers-color-scheme: dark) {\n",
       "    /* Redefinition of color scheme for dark theme */\n",
       "    --sklearn-color-text-on-default-background: var(--sg-text-color, var(--theme-code-foreground, var(--jp-content-font-color1, white)));\n",
       "    --sklearn-color-background: var(--sg-background-color, var(--theme-background, var(--jp-layout-color0, #111)));\n",
       "    --sklearn-color-border-box: var(--sg-text-color, var(--theme-code-foreground, var(--jp-content-font-color1, white)));\n",
       "    --sklearn-color-icon: #878787;\n",
       "  }\n",
       "}\n",
       "\n",
       "#sk-container-id-2 {\n",
       "  color: var(--sklearn-color-text);\n",
       "}\n",
       "\n",
       "#sk-container-id-2 pre {\n",
       "  padding: 0;\n",
       "}\n",
       "\n",
       "#sk-container-id-2 input.sk-hidden--visually {\n",
       "  border: 0;\n",
       "  clip: rect(1px 1px 1px 1px);\n",
       "  clip: rect(1px, 1px, 1px, 1px);\n",
       "  height: 1px;\n",
       "  margin: -1px;\n",
       "  overflow: hidden;\n",
       "  padding: 0;\n",
       "  position: absolute;\n",
       "  width: 1px;\n",
       "}\n",
       "\n",
       "#sk-container-id-2 div.sk-dashed-wrapped {\n",
       "  border: 1px dashed var(--sklearn-color-line);\n",
       "  margin: 0 0.4em 0.5em 0.4em;\n",
       "  box-sizing: border-box;\n",
       "  padding-bottom: 0.4em;\n",
       "  background-color: var(--sklearn-color-background);\n",
       "}\n",
       "\n",
       "#sk-container-id-2 div.sk-container {\n",
       "  /* jupyter's `normalize.less` sets `[hidden] { display: none; }`\n",
       "     but bootstrap.min.css set `[hidden] { display: none !important; }`\n",
       "     so we also need the `!important` here to be able to override the\n",
       "     default hidden behavior on the sphinx rendered scikit-learn.org.\n",
       "     See: https://github.com/scikit-learn/scikit-learn/issues/21755 */\n",
       "  display: inline-block !important;\n",
       "  position: relative;\n",
       "}\n",
       "\n",
       "#sk-container-id-2 div.sk-text-repr-fallback {\n",
       "  display: none;\n",
       "}\n",
       "\n",
       "div.sk-parallel-item,\n",
       "div.sk-serial,\n",
       "div.sk-item {\n",
       "  /* draw centered vertical line to link estimators */\n",
       "  background-image: linear-gradient(var(--sklearn-color-text-on-default-background), var(--sklearn-color-text-on-default-background));\n",
       "  background-size: 2px 100%;\n",
       "  background-repeat: no-repeat;\n",
       "  background-position: center center;\n",
       "}\n",
       "\n",
       "/* Parallel-specific style estimator block */\n",
       "\n",
       "#sk-container-id-2 div.sk-parallel-item::after {\n",
       "  content: \"\";\n",
       "  width: 100%;\n",
       "  border-bottom: 2px solid var(--sklearn-color-text-on-default-background);\n",
       "  flex-grow: 1;\n",
       "}\n",
       "\n",
       "#sk-container-id-2 div.sk-parallel {\n",
       "  display: flex;\n",
       "  align-items: stretch;\n",
       "  justify-content: center;\n",
       "  background-color: var(--sklearn-color-background);\n",
       "  position: relative;\n",
       "}\n",
       "\n",
       "#sk-container-id-2 div.sk-parallel-item {\n",
       "  display: flex;\n",
       "  flex-direction: column;\n",
       "}\n",
       "\n",
       "#sk-container-id-2 div.sk-parallel-item:first-child::after {\n",
       "  align-self: flex-end;\n",
       "  width: 50%;\n",
       "}\n",
       "\n",
       "#sk-container-id-2 div.sk-parallel-item:last-child::after {\n",
       "  align-self: flex-start;\n",
       "  width: 50%;\n",
       "}\n",
       "\n",
       "#sk-container-id-2 div.sk-parallel-item:only-child::after {\n",
       "  width: 0;\n",
       "}\n",
       "\n",
       "/* Serial-specific style estimator block */\n",
       "\n",
       "#sk-container-id-2 div.sk-serial {\n",
       "  display: flex;\n",
       "  flex-direction: column;\n",
       "  align-items: center;\n",
       "  background-color: var(--sklearn-color-background);\n",
       "  padding-right: 1em;\n",
       "  padding-left: 1em;\n",
       "}\n",
       "\n",
       "\n",
       "/* Toggleable style: style used for estimator/Pipeline/ColumnTransformer box that is\n",
       "clickable and can be expanded/collapsed.\n",
       "- Pipeline and ColumnTransformer use this feature and define the default style\n",
       "- Estimators will overwrite some part of the style using the `sk-estimator` class\n",
       "*/\n",
       "\n",
       "/* Pipeline and ColumnTransformer style (default) */\n",
       "\n",
       "#sk-container-id-2 div.sk-toggleable {\n",
       "  /* Default theme specific background. It is overwritten whether we have a\n",
       "  specific estimator or a Pipeline/ColumnTransformer */\n",
       "  background-color: var(--sklearn-color-background);\n",
       "}\n",
       "\n",
       "/* Toggleable label */\n",
       "#sk-container-id-2 label.sk-toggleable__label {\n",
       "  cursor: pointer;\n",
       "  display: flex;\n",
       "  width: 100%;\n",
       "  margin-bottom: 0;\n",
       "  padding: 0.5em;\n",
       "  box-sizing: border-box;\n",
       "  text-align: center;\n",
       "  align-items: start;\n",
       "  justify-content: space-between;\n",
       "  gap: 0.5em;\n",
       "}\n",
       "\n",
       "#sk-container-id-2 label.sk-toggleable__label .caption {\n",
       "  font-size: 0.6rem;\n",
       "  font-weight: lighter;\n",
       "  color: var(--sklearn-color-text-muted);\n",
       "}\n",
       "\n",
       "#sk-container-id-2 label.sk-toggleable__label-arrow:before {\n",
       "  /* Arrow on the left of the label */\n",
       "  content: \"▸\";\n",
       "  float: left;\n",
       "  margin-right: 0.25em;\n",
       "  color: var(--sklearn-color-icon);\n",
       "}\n",
       "\n",
       "#sk-container-id-2 label.sk-toggleable__label-arrow:hover:before {\n",
       "  color: var(--sklearn-color-text);\n",
       "}\n",
       "\n",
       "/* Toggleable content - dropdown */\n",
       "\n",
       "#sk-container-id-2 div.sk-toggleable__content {\n",
       "  max-height: 0;\n",
       "  max-width: 0;\n",
       "  overflow: hidden;\n",
       "  text-align: left;\n",
       "  /* unfitted */\n",
       "  background-color: var(--sklearn-color-unfitted-level-0);\n",
       "}\n",
       "\n",
       "#sk-container-id-2 div.sk-toggleable__content.fitted {\n",
       "  /* fitted */\n",
       "  background-color: var(--sklearn-color-fitted-level-0);\n",
       "}\n",
       "\n",
       "#sk-container-id-2 div.sk-toggleable__content pre {\n",
       "  margin: 0.2em;\n",
       "  border-radius: 0.25em;\n",
       "  color: var(--sklearn-color-text);\n",
       "  /* unfitted */\n",
       "  background-color: var(--sklearn-color-unfitted-level-0);\n",
       "}\n",
       "\n",
       "#sk-container-id-2 div.sk-toggleable__content.fitted pre {\n",
       "  /* unfitted */\n",
       "  background-color: var(--sklearn-color-fitted-level-0);\n",
       "}\n",
       "\n",
       "#sk-container-id-2 input.sk-toggleable__control:checked~div.sk-toggleable__content {\n",
       "  /* Expand drop-down */\n",
       "  max-height: 200px;\n",
       "  max-width: 100%;\n",
       "  overflow: auto;\n",
       "}\n",
       "\n",
       "#sk-container-id-2 input.sk-toggleable__control:checked~label.sk-toggleable__label-arrow:before {\n",
       "  content: \"▾\";\n",
       "}\n",
       "\n",
       "/* Pipeline/ColumnTransformer-specific style */\n",
       "\n",
       "#sk-container-id-2 div.sk-label input.sk-toggleable__control:checked~label.sk-toggleable__label {\n",
       "  color: var(--sklearn-color-text);\n",
       "  background-color: var(--sklearn-color-unfitted-level-2);\n",
       "}\n",
       "\n",
       "#sk-container-id-2 div.sk-label.fitted input.sk-toggleable__control:checked~label.sk-toggleable__label {\n",
       "  background-color: var(--sklearn-color-fitted-level-2);\n",
       "}\n",
       "\n",
       "/* Estimator-specific style */\n",
       "\n",
       "/* Colorize estimator box */\n",
       "#sk-container-id-2 div.sk-estimator input.sk-toggleable__control:checked~label.sk-toggleable__label {\n",
       "  /* unfitted */\n",
       "  background-color: var(--sklearn-color-unfitted-level-2);\n",
       "}\n",
       "\n",
       "#sk-container-id-2 div.sk-estimator.fitted input.sk-toggleable__control:checked~label.sk-toggleable__label {\n",
       "  /* fitted */\n",
       "  background-color: var(--sklearn-color-fitted-level-2);\n",
       "}\n",
       "\n",
       "#sk-container-id-2 div.sk-label label.sk-toggleable__label,\n",
       "#sk-container-id-2 div.sk-label label {\n",
       "  /* The background is the default theme color */\n",
       "  color: var(--sklearn-color-text-on-default-background);\n",
       "}\n",
       "\n",
       "/* On hover, darken the color of the background */\n",
       "#sk-container-id-2 div.sk-label:hover label.sk-toggleable__label {\n",
       "  color: var(--sklearn-color-text);\n",
       "  background-color: var(--sklearn-color-unfitted-level-2);\n",
       "}\n",
       "\n",
       "/* Label box, darken color on hover, fitted */\n",
       "#sk-container-id-2 div.sk-label.fitted:hover label.sk-toggleable__label.fitted {\n",
       "  color: var(--sklearn-color-text);\n",
       "  background-color: var(--sklearn-color-fitted-level-2);\n",
       "}\n",
       "\n",
       "/* Estimator label */\n",
       "\n",
       "#sk-container-id-2 div.sk-label label {\n",
       "  font-family: monospace;\n",
       "  font-weight: bold;\n",
       "  display: inline-block;\n",
       "  line-height: 1.2em;\n",
       "}\n",
       "\n",
       "#sk-container-id-2 div.sk-label-container {\n",
       "  text-align: center;\n",
       "}\n",
       "\n",
       "/* Estimator-specific */\n",
       "#sk-container-id-2 div.sk-estimator {\n",
       "  font-family: monospace;\n",
       "  border: 1px dotted var(--sklearn-color-border-box);\n",
       "  border-radius: 0.25em;\n",
       "  box-sizing: border-box;\n",
       "  margin-bottom: 0.5em;\n",
       "  /* unfitted */\n",
       "  background-color: var(--sklearn-color-unfitted-level-0);\n",
       "}\n",
       "\n",
       "#sk-container-id-2 div.sk-estimator.fitted {\n",
       "  /* fitted */\n",
       "  background-color: var(--sklearn-color-fitted-level-0);\n",
       "}\n",
       "\n",
       "/* on hover */\n",
       "#sk-container-id-2 div.sk-estimator:hover {\n",
       "  /* unfitted */\n",
       "  background-color: var(--sklearn-color-unfitted-level-2);\n",
       "}\n",
       "\n",
       "#sk-container-id-2 div.sk-estimator.fitted:hover {\n",
       "  /* fitted */\n",
       "  background-color: var(--sklearn-color-fitted-level-2);\n",
       "}\n",
       "\n",
       "/* Specification for estimator info (e.g. \"i\" and \"?\") */\n",
       "\n",
       "/* Common style for \"i\" and \"?\" */\n",
       "\n",
       ".sk-estimator-doc-link,\n",
       "a:link.sk-estimator-doc-link,\n",
       "a:visited.sk-estimator-doc-link {\n",
       "  float: right;\n",
       "  font-size: smaller;\n",
       "  line-height: 1em;\n",
       "  font-family: monospace;\n",
       "  background-color: var(--sklearn-color-background);\n",
       "  border-radius: 1em;\n",
       "  height: 1em;\n",
       "  width: 1em;\n",
       "  text-decoration: none !important;\n",
       "  margin-left: 0.5em;\n",
       "  text-align: center;\n",
       "  /* unfitted */\n",
       "  border: var(--sklearn-color-unfitted-level-1) 1pt solid;\n",
       "  color: var(--sklearn-color-unfitted-level-1);\n",
       "}\n",
       "\n",
       ".sk-estimator-doc-link.fitted,\n",
       "a:link.sk-estimator-doc-link.fitted,\n",
       "a:visited.sk-estimator-doc-link.fitted {\n",
       "  /* fitted */\n",
       "  border: var(--sklearn-color-fitted-level-1) 1pt solid;\n",
       "  color: var(--sklearn-color-fitted-level-1);\n",
       "}\n",
       "\n",
       "/* On hover */\n",
       "div.sk-estimator:hover .sk-estimator-doc-link:hover,\n",
       ".sk-estimator-doc-link:hover,\n",
       "div.sk-label-container:hover .sk-estimator-doc-link:hover,\n",
       ".sk-estimator-doc-link:hover {\n",
       "  /* unfitted */\n",
       "  background-color: var(--sklearn-color-unfitted-level-3);\n",
       "  color: var(--sklearn-color-background);\n",
       "  text-decoration: none;\n",
       "}\n",
       "\n",
       "div.sk-estimator.fitted:hover .sk-estimator-doc-link.fitted:hover,\n",
       ".sk-estimator-doc-link.fitted:hover,\n",
       "div.sk-label-container:hover .sk-estimator-doc-link.fitted:hover,\n",
       ".sk-estimator-doc-link.fitted:hover {\n",
       "  /* fitted */\n",
       "  background-color: var(--sklearn-color-fitted-level-3);\n",
       "  color: var(--sklearn-color-background);\n",
       "  text-decoration: none;\n",
       "}\n",
       "\n",
       "/* Span, style for the box shown on hovering the info icon */\n",
       ".sk-estimator-doc-link span {\n",
       "  display: none;\n",
       "  z-index: 9999;\n",
       "  position: relative;\n",
       "  font-weight: normal;\n",
       "  right: .2ex;\n",
       "  padding: .5ex;\n",
       "  margin: .5ex;\n",
       "  width: min-content;\n",
       "  min-width: 20ex;\n",
       "  max-width: 50ex;\n",
       "  color: var(--sklearn-color-text);\n",
       "  box-shadow: 2pt 2pt 4pt #999;\n",
       "  /* unfitted */\n",
       "  background: var(--sklearn-color-unfitted-level-0);\n",
       "  border: .5pt solid var(--sklearn-color-unfitted-level-3);\n",
       "}\n",
       "\n",
       ".sk-estimator-doc-link.fitted span {\n",
       "  /* fitted */\n",
       "  background: var(--sklearn-color-fitted-level-0);\n",
       "  border: var(--sklearn-color-fitted-level-3);\n",
       "}\n",
       "\n",
       ".sk-estimator-doc-link:hover span {\n",
       "  display: block;\n",
       "}\n",
       "\n",
       "/* \"?\"-specific style due to the `<a>` HTML tag */\n",
       "\n",
       "#sk-container-id-2 a.estimator_doc_link {\n",
       "  float: right;\n",
       "  font-size: 1rem;\n",
       "  line-height: 1em;\n",
       "  font-family: monospace;\n",
       "  background-color: var(--sklearn-color-background);\n",
       "  border-radius: 1rem;\n",
       "  height: 1rem;\n",
       "  width: 1rem;\n",
       "  text-decoration: none;\n",
       "  /* unfitted */\n",
       "  color: var(--sklearn-color-unfitted-level-1);\n",
       "  border: var(--sklearn-color-unfitted-level-1) 1pt solid;\n",
       "}\n",
       "\n",
       "#sk-container-id-2 a.estimator_doc_link.fitted {\n",
       "  /* fitted */\n",
       "  border: var(--sklearn-color-fitted-level-1) 1pt solid;\n",
       "  color: var(--sklearn-color-fitted-level-1);\n",
       "}\n",
       "\n",
       "/* On hover */\n",
       "#sk-container-id-2 a.estimator_doc_link:hover {\n",
       "  /* unfitted */\n",
       "  background-color: var(--sklearn-color-unfitted-level-3);\n",
       "  color: var(--sklearn-color-background);\n",
       "  text-decoration: none;\n",
       "}\n",
       "\n",
       "#sk-container-id-2 a.estimator_doc_link.fitted:hover {\n",
       "  /* fitted */\n",
       "  background-color: var(--sklearn-color-fitted-level-3);\n",
       "}\n",
       "</style><div id=\"sk-container-id-2\" class=\"sk-top-container\"><div class=\"sk-text-repr-fallback\"><pre>LinearRegression()</pre><b>In a Jupyter environment, please rerun this cell to show the HTML representation or trust the notebook. <br />On GitHub, the HTML representation is unable to render, please try loading this page with nbviewer.org.</b></div><div class=\"sk-container\" hidden><div class=\"sk-item\"><div class=\"sk-estimator fitted sk-toggleable\"><input class=\"sk-toggleable__control sk-hidden--visually\" id=\"sk-estimator-id-2\" type=\"checkbox\" checked><label for=\"sk-estimator-id-2\" class=\"sk-toggleable__label fitted sk-toggleable__label-arrow\"><div><div>LinearRegression</div></div><div><a class=\"sk-estimator-doc-link fitted\" rel=\"noreferrer\" target=\"_blank\" href=\"https://scikit-learn.org/1.6/modules/generated/sklearn.linear_model.LinearRegression.html\">?<span>Documentation for LinearRegression</span></a><span class=\"sk-estimator-doc-link fitted\">i<span>Fitted</span></span></div></label><div class=\"sk-toggleable__content fitted\"><pre>LinearRegression()</pre></div> </div></div></div></div>"
      ],
      "text/plain": [
       "LinearRegression()"
      ]
     },
     "execution_count": 19,
     "metadata": {},
     "output_type": "execute_result"
    }
   ],
   "source": [
    "lr.fit(x_train,y_train)"
   ]
  },
  {
   "cell_type": "code",
   "execution_count": 20,
   "id": "d5807cfa-82c0-43f4-bd16-cd121b9166f9",
   "metadata": {},
   "outputs": [],
   "source": [
    "y_pred = lr.predict(x_test)"
   ]
  },
  {
   "cell_type": "code",
   "execution_count": 21,
   "id": "3edc3b7e-35f4-4b73-a20d-4486ad6ecb6f",
   "metadata": {},
   "outputs": [
    {
     "name": "stdout",
     "output_type": "stream",
     "text": [
      "MAE 38.64562701756058\n",
      "MSE 2526.1211237492416\n",
      "R2 score 0.6752567571284489\n"
     ]
    }
   ],
   "source": [
    "# y_pred\n",
    "\n",
    "print(\"MAE\",mean_absolute_error(y_test,y_pred))\n",
    "print(\"MSE\",mean_squared_error(y_test,y_pred))\n",
    "print(\"R2 score\",r2_score(y_test,y_pred))"
   ]
  },
  {
   "cell_type": "code",
   "execution_count": 22,
   "id": "3e3a5634-b7ee-4d6d-a46b-c1fbf0926ae3",
   "metadata": {},
   "outputs": [],
   "source": [
    "x = np.linspace(-5, 5, 10)\n",
    "y = np.linspace(-5, 5, 10)\n",
    "xGrid, yGrid = np.meshgrid(y, x)\n",
    "\n",
    "final = np.vstack((xGrid.ravel().reshape(1,100),\n",
    "                   yGrid.ravel().reshape(1,100))).T\n",
    "\n",
    "z_final = lr.predict(final).reshape(10,10)\n",
    "z = z_final\n"
   ]
  },
  {
   "cell_type": "code",
   "execution_count": 27,
   "id": "d0c861d1-84b0-4053-b73e-759733222b86",
   "metadata": {},
   "outputs": [
    {
     "data": {
      "application/vnd.plotly.v1+json": {
       "config": {
        "plotlyServerURL": "https://plot.ly"
       },
       "data": [
        {
         "hovertemplate": "col1=%{x}<br>col2=%{y}<br>target=%{z}<extra></extra>",
         "legendgroup": "",
         "marker": {
          "color": "#636efa",
          "symbol": "circle"
         },
         "mode": "markers",
         "name": "",
         "scene": "scene",
         "showlegend": false,
         "type": "scatter3d",
         "x": {
          "bdata": "+0iDGqeA4b8tRHKio0jxv9SUFkazYOa/GMf16FJ8A8AZbBc3Yy/ov1jn4ZnTl9U/M7rQ8W0P5D9aDc3Za7Lgvw/mmV806OW/GBgAB21L8D/G5SDa8hT5P0ZDW7QWAt2/A9Bje2jV8D91TCDgsvL8v/hTjZuP/+U/4bxo9isXwz8HFgPGvf3svw5dVFtgrOk/hl62PU7H+b/1feMXZQ7rv/6US9GA49S/A9UjOXv82j/l5cipQLLnP9oFXEfbFeu/U7iVXe2X2z/HGx2qzR76v6MA6Chrdaw/X+753MOk6j9thGVJtUwDQMGzeBAm3vI/eqXhOyoD5r+qXTFKQzK4v0w/TOMz0pE/BoGii4gi5L/rsjnd2AnNv2ksQOnqBdq/gTpUhD9StD88T/Rsy3b2P4x26G5NrOY/ofiXnIoD7L8Gu5MUGjO8P96Cxx0GsOA/wNzch1el6r8NJo52FEnwP0cFX8LaJus/Vazq/uKz2T99FgSuMgP6P2r2eOmThPS/ARrmsiXbwj96t6YLsHHhPxGA2GPqRPY/aAUf8v3g8780gw71pxbWvzPpV0PAJfK/ojDUpSb55r8YFn+KFGf3v8JiBGOqYeu/rNIaL+1q2r+rdqx/mKfmv17N6AD9ytg/+QI6KYTM/D8Own3m3t/Mv4H1W6gAsARAvVDbEFEC3j/Yz+jIaLHgPzK74Byrzci/Ti46GN5D/T9vFmGdsqK3v7n6QCeR7cE/KPvEBnBq1j8xzyoJNkfvv7aGSIq5u/Q/YgtasTPCvT+3wbrg66jXP8vWO20nPsq/kBYTmuX54D/1wwtsWpvLvzZlWI3Gg5y/OpQBEVmc1r9yUuLsmKDCP/ChJFS8oPC/V4+4i+k96L96Zwl973riP1AsftbDoQTArEV1K6jn3j8EBEx09ivXP2QQCLVA4fA/Wt2eXyxf6D+iuc8LujfnP+c3q41y9vg/Os0uBfYR7T+fISRiTYfjvzCqGm6sRf6/+jhib3PuAMDtghw1+QPgv0yNwW5QYcg/AXVXb4r73r/az4ErLtb1P3zPRX2snui/PQxSXij2678=",
          "dtype": "f8"
         },
         "y": {
          "bdata": "QGFiU+Tw8T8xUYbL0U/gP0rGSmw97eO/wCZrh2eM7D/UomyJBrXUPykXEKbsoP4/PaIr8A3k1j+XVKMOQpbmv/JtxHBMT/w/emGvKyLT679/NKxm/1fsv8hZyW73gwLAqVEegubG5b9Dj1uNLMvWv7E2VkLbx9G/yLKg/mhu0L95iPkmNNXpP0aNh8DtfcW/Tg0PwOfQ3T8BZp/OmKz8vyTtSOJq5to/SmklwKHy8r/vTvsnHwPYP16AaNmmW/I/SgQfjl5lzb8+nt2na0bvv3SpTlnXFOW/0REn3tCP/z+GqODYbW3Lv75DhgLive2/QKIZLEJf2D/iu3gZSCDyvzxo7rvv7fU/a4X0XEeaCEBsOVytNS/Sv++NRA6PUO2/kFomMaNi5r+KwwYfJHDjPwEuCZBNWe2/OAg5ophU6D8ej37ZSjbzv/XyaaB0kPe/IvlB28wj3b/ig+orUiDIv7KHy4XnguI/lsjnZoY+8j+KvhgNiwH1vzcei525neS/No0Ddqqp4b+yFn4Anqjtv3U0AH8OiPa/MkNLLtVw9L+ifxT249naP/XSNUL0y/M/rJiSRztC9r962OpIVNECwMDyDDZs+tW//zACg09X6r+08ZobUX6JP2qr78mwb/Q/Q6fl/ZhEy79Ml53lfXbMP4At9zDuDOE/nR+e2EyX4r+2h+CwKavdv363ktMYR+2/mGN3I8Q0AsDByi8JnfL2P1cqsl0Yr8C/xsmKeHMIwb/aRsPYkKbdPxUfLV31gNM/8yT/lbbX4j/iwoCASUr2PwGov8z15+o/LKXqsvN12j/xSx88LSTfP1sSqOuBCvE/9YOFLQuixz9HcRUUJGTnv73+QMN8tM2/ecq7yiB+3T+YkcGaGeziv28HZxZG+dw/tA3uhYnF5z9zfghbGcHoP7iHbnY2nLc/b/zJSEF36D89OyBYkMzgv/3w/D0d9dG/DjtQeRN86L/CZMZg1Orov26V8/Z/FNa/9zFGoUQF8r/QZymqvSKvP+e319da4es/L6KdGuYL4r+mCtUGy3rtv071qgTrdu0/nbPOi8sktT8=",
          "dtype": "f8"
         },
         "z": {
          "bdata": "rq6JiXqQQsCOSTnP6kBfwDnbdShxDlPALuCYwb+iRcDSzD1BTNBNwPHkyvYlq1dA1IpR4ePjQECIgARuDfNcwHxmxlbGSUTAuSweuxtzRUD52MD2SZ5aQH1qoUlLeVrAHMGMfXWwQ0CzhQnJu3JgwOCunsTTlEZAiXnjWKUSTEAQt02EbZJYwPBY9FY6KWFAxeU8LarmUsCP5v760LpZwAz4L3FSc0LAwHqhEGfX5b+4e/H8RhpRQLZFoXr87U/A+p8KBg+pNUD9XdC1lrJjwBOyd7gtyCzAIBpMG0f1X0ArIGQCzhRoQAILA8Hoh1BASoV+ovYQQMCk60VFuDRSwKiAR8ZClDlAjmCo9KuRSkCs8vixzmlGQPoJG+Iudk7A81W/l4bbJcBQSEurdaouQFpUih0MIEdA9yrjKykOTsBn+owGLPIxQOTugaURkjbAPrR/UOieVMC/A/fPaElZQN9UKAhrq0BAXm6qB7LnRECgIKCJT6wUwCFhTmkL42bAp4s6B0UWRMDY/w/ChPoaQFRyPO3jHVpAiFmR2boEaMD2KPgw4tcnQDLcieyOcWDASfPA2xEBWMCOC0asLS1qwJby2VumS07A+x6G7+0LVMAhAWxiaWpIwNDU3YpsVyJAaUWjZPNGYUDLS1uwGXhHwCTsm0JwHGVAHAkYoI13MMD3yHncC/ZWQH5yO0eEbGbA5e4wVKK1VkB2NDUyL8s7wID++e0nFD3AfUc3lgTMVUAT9+SYM4RmwNr0JgTMcGNAagqV4VEiTUCHZgeu7TZTQFx+pLQTbkLA5C2EuN1rN0C8KIYdX804QJwKuq5VEyhAP/FnoieHIsCteCny/ZhSwMK4KpkgsVLABtGvx7/yMcBkbFvQ1hNAwAI1xe723WzAXN14kIeeYEB6ltEcBKJCQL1zyzuygVVAwplo2974UMD+evN01b1bQJ7P2aWAGFhAunE1mDivVkBsi9BkhC1jwGwj11FytVHAdURwrimJZMDd0hjWZO9OwLF1TU/vpkhAKWGb9uj0N8BPcYvyRsRZQIBHFMz3X0TA3JpGWlthUsA=",
          "dtype": "f8"
         }
        },
        {
         "colorscale": [
          [
           0,
           "#440154"
          ],
          [
           0.1111111111111111,
           "#482878"
          ],
          [
           0.2222222222222222,
           "#3e4989"
          ],
          [
           0.3333333333333333,
           "#31688e"
          ],
          [
           0.4444444444444444,
           "#26828e"
          ],
          [
           0.5555555555555556,
           "#1f9e89"
          ],
          [
           0.6666666666666666,
           "#35b779"
          ],
          [
           0.7777777777777778,
           "#6ece58"
          ],
          [
           0.8888888888888888,
           "#b5de2b"
          ],
          [
           1,
           "#fde725"
          ]
         ],
         "opacity": 0.6,
         "type": "surface",
         "x": {
          "bdata": "AAAAAAAAFMDHcRzHcRwPwI7jOI7jOAbAqqqqqqqq+r9wHMdxHMfhv3Acx3Ecx+E/rKqqqqqq+j+Q4ziO4zgGQMhxHMdxHA9AAAAAAAAAFEAAAAAAAAAUwMdxHMdxHA/AjuM4juM4BsCqqqqqqqr6v3Acx3Ecx+G/cBzHcRzH4T+sqqqqqqr6P5DjOI7jOAZAyHEcx3EcD0AAAAAAAAAUQAAAAAAAABTAx3Ecx3EcD8CO4ziO4zgGwKqqqqqqqvq/cBzHcRzH4b9wHMdxHMfhP6yqqqqqqvo/kOM4juM4BkDIcRzHcRwPQAAAAAAAABRAAAAAAAAAFMDHcRzHcRwPwI7jOI7jOAbAqqqqqqqq+r9wHMdxHMfhv3Acx3Ecx+E/rKqqqqqq+j+Q4ziO4zgGQMhxHMdxHA9AAAAAAAAAFEAAAAAAAAAUwMdxHMdxHA/AjuM4juM4BsCqqqqqqqr6v3Acx3Ecx+G/cBzHcRzH4T+sqqqqqqr6P5DjOI7jOAZAyHEcx3EcD0AAAAAAAAAUQAAAAAAAABTAx3Ecx3EcD8CO4ziO4zgGwKqqqqqqqvq/cBzHcRzH4b9wHMdxHMfhP6yqqqqqqvo/kOM4juM4BkDIcRzHcRwPQAAAAAAAABRAAAAAAAAAFMDHcRzHcRwPwI7jOI7jOAbAqqqqqqqq+r9wHMdxHMfhv3Acx3Ecx+E/rKqqqqqq+j+Q4ziO4zgGQMhxHMdxHA9AAAAAAAAAFEAAAAAAAAAUwMdxHMdxHA/AjuM4juM4BsCqqqqqqqr6v3Acx3Ecx+G/cBzHcRzH4T+sqqqqqqr6P5DjOI7jOAZAyHEcx3EcD0AAAAAAAAAUQAAAAAAAABTAx3Ecx3EcD8CO4ziO4zgGwKqqqqqqqvq/cBzHcRzH4b9wHMdxHMfhP6yqqqqqqvo/kOM4juM4BkDIcRzHcRwPQAAAAAAAABRAAAAAAAAAFMDHcRzHcRwPwI7jOI7jOAbAqqqqqqqq+r9wHMdxHMfhv3Acx3Ecx+E/rKqqqqqq+j+Q4ziO4zgGQMhxHMdxHA9AAAAAAAAAFEA=",
          "dtype": "f8",
          "shape": "10, 10"
         },
         "y": {
          "bdata": "AAAAAAAAFMAAAAAAAAAUwAAAAAAAABTAAAAAAAAAFMAAAAAAAAAUwAAAAAAAABTAAAAAAAAAFMAAAAAAAAAUwAAAAAAAABTAAAAAAAAAFMDHcRzHcRwPwMdxHMdxHA/Ax3Ecx3EcD8DHcRzHcRwPwMdxHMdxHA/Ax3Ecx3EcD8DHcRzHcRwPwMdxHMdxHA/Ax3Ecx3EcD8DHcRzHcRwPwI7jOI7jOAbAjuM4juM4BsCO4ziO4zgGwI7jOI7jOAbAjuM4juM4BsCO4ziO4zgGwI7jOI7jOAbAjuM4juM4BsCO4ziO4zgGwI7jOI7jOAbAqqqqqqqq+r+qqqqqqqr6v6qqqqqqqvq/qqqqqqqq+r+qqqqqqqr6v6qqqqqqqvq/qqqqqqqq+r+qqqqqqqr6v6qqqqqqqvq/qqqqqqqq+r9wHMdxHMfhv3Acx3Ecx+G/cBzHcRzH4b9wHMdxHMfhv3Acx3Ecx+G/cBzHcRzH4b9wHMdxHMfhv3Acx3Ecx+G/cBzHcRzH4b9wHMdxHMfhv3Acx3Ecx+E/cBzHcRzH4T9wHMdxHMfhP3Acx3Ecx+E/cBzHcRzH4T9wHMdxHMfhP3Acx3Ecx+E/cBzHcRzH4T9wHMdxHMfhP3Acx3Ecx+E/rKqqqqqq+j+sqqqqqqr6P6yqqqqqqvo/rKqqqqqq+j+sqqqqqqr6P6yqqqqqqvo/rKqqqqqq+j+sqqqqqqr6P6yqqqqqqvo/rKqqqqqq+j+Q4ziO4zgGQJDjOI7jOAZAkOM4juM4BkCQ4ziO4zgGQJDjOI7jOAZAkOM4juM4BkCQ4ziO4zgGQJDjOI7jOAZAkOM4juM4BkCQ4ziO4zgGQMhxHMdxHA9AyHEcx3EcD0DIcRzHcRwPQMhxHMdxHA9AyHEcx3EcD0DIcRzHcRwPQMhxHMdxHA9AyHEcx3EcD0DIcRzHcRwPQMhxHMdxHA9AAAAAAAAAFEAAAAAAAAAUQAAAAAAAABRAAAAAAAAAFEAAAAAAAAAUQAAAAAAAABRAAAAAAAAAFEAAAAAAAAAUQAAAAAAAABRAAAAAAAAAFEA=",
          "dtype": "f8",
          "shape": "10, 10"
         },
         "z": {
          "bdata": "sMzHy534fsCxrCDyazl6wLKMeRg6enXAs2zSPgi7cMBomVbKrPdnwNiyEC6S8lzAtGXojpXrQ8BHmlA++Q1CQB3NxAXEA1xAjKYwtkWAZ0A/PuPJJON8wEAePPDyI3jAQf6UFsFkc8CEvNt5HkttwIZ8jca6zGPAFHl+Jq6cVMBkkR/+a/4ZwOiGuqbgXFFAcIOrBtQsYkBuw/m5N6trQM6v/serzXrAz49X7nkOdsDQb7AUSE9xwKKfEnYsIGnASr+IhZFDX8Cgftg9lI1IwLcCwR711zpArMBMrsSyWUBSoHQKxldmQFDgwr0p1m9AXSEaxjK4eMBeAXPsAPlzwMDClyWec27AwoJJcjr1ZMCHhfZ9re1WwGks0Lowhy/A4vSEnsIXTkA4fe9aVARhQDS9PQ64gmpAmf7F4I0AckDskjXEuaJ2wO1yjuqH43HA3qXOIaxIasDgZYBuSMpgwIaXyOySL03A2tDgwPeTMUA1tNRWxWFXQBqauF5GL2VAFtoGEqqtbkAKjariBhZ0QHwEUcJAjXTA+shT0R2cb8D8iAUeuh1mwPyRbtWsPlnAAkhIu5UHOcDy25Tvw3VJQPftZl6pt19A+raBYjhaaUB8++cKTmxxQHobj+R/K3ZAC3ZswMd3csAYrIrNK3FrwBpsPBrI8mHAOFjczcjoUMAdPgHG9J8gQL2nXP/FEFVA3pP8ssYGZEDc00pmKoVtQO2JzAzHgXNA66lz5vhAeECZ54e+TmJwwDaPwck5RmfAb57mLKyPW8DnPJSMySVBwBDDpEDF00RAguHuBqpmXUDAsMW2uDFoQGD4CTUO2HBAXhixDkCXdUBdOFjocVZ6QFKyRnmrmWzAVHL4xUcbY8CsZFQlyDlTwFBY8ltfgO6/S5vkp8a/UkCijUAHR95iQKLNjrqqXGxA0IbuNoftckDPppUQuax3QM3GPOrqa3xAcJV9dbluaMDlql6Eq+BdwNNVhDvIx0XAJaq0kcYxQEAO1XavqhVbQISqCQs5CWdAQvUrX85DcEBBFdM4AAN1QEA1ehIywnlAPlUh7GOBfkA=",
          "dtype": "f8",
          "shape": "10, 10"
         }
        }
       ],
       "layout": {
        "legend": {
         "tracegroupgap": 0
        },
        "margin": {
         "t": 60
        },
        "scene": {
         "domain": {
          "x": [
           0,
           1
          ],
          "y": [
           0,
           1
          ]
         },
         "xaxis": {
          "title": {
           "text": "col1"
          }
         },
         "yaxis": {
          "title": {
           "text": "col2"
          }
         },
         "zaxis": {
          "title": {
           "text": "target"
          }
         }
        },
        "template": {
         "data": {
          "bar": [
           {
            "error_x": {
             "color": "#2a3f5f"
            },
            "error_y": {
             "color": "#2a3f5f"
            },
            "marker": {
             "line": {
              "color": "#E5ECF6",
              "width": 0.5
             },
             "pattern": {
              "fillmode": "overlay",
              "size": 10,
              "solidity": 0.2
             }
            },
            "type": "bar"
           }
          ],
          "barpolar": [
           {
            "marker": {
             "line": {
              "color": "#E5ECF6",
              "width": 0.5
             },
             "pattern": {
              "fillmode": "overlay",
              "size": 10,
              "solidity": 0.2
             }
            },
            "type": "barpolar"
           }
          ],
          "carpet": [
           {
            "aaxis": {
             "endlinecolor": "#2a3f5f",
             "gridcolor": "white",
             "linecolor": "white",
             "minorgridcolor": "white",
             "startlinecolor": "#2a3f5f"
            },
            "baxis": {
             "endlinecolor": "#2a3f5f",
             "gridcolor": "white",
             "linecolor": "white",
             "minorgridcolor": "white",
             "startlinecolor": "#2a3f5f"
            },
            "type": "carpet"
           }
          ],
          "choropleth": [
           {
            "colorbar": {
             "outlinewidth": 0,
             "ticks": ""
            },
            "type": "choropleth"
           }
          ],
          "contour": [
           {
            "colorbar": {
             "outlinewidth": 0,
             "ticks": ""
            },
            "colorscale": [
             [
              0,
              "#0d0887"
             ],
             [
              0.1111111111111111,
              "#46039f"
             ],
             [
              0.2222222222222222,
              "#7201a8"
             ],
             [
              0.3333333333333333,
              "#9c179e"
             ],
             [
              0.4444444444444444,
              "#bd3786"
             ],
             [
              0.5555555555555556,
              "#d8576b"
             ],
             [
              0.6666666666666666,
              "#ed7953"
             ],
             [
              0.7777777777777778,
              "#fb9f3a"
             ],
             [
              0.8888888888888888,
              "#fdca26"
             ],
             [
              1,
              "#f0f921"
             ]
            ],
            "type": "contour"
           }
          ],
          "contourcarpet": [
           {
            "colorbar": {
             "outlinewidth": 0,
             "ticks": ""
            },
            "type": "contourcarpet"
           }
          ],
          "heatmap": [
           {
            "colorbar": {
             "outlinewidth": 0,
             "ticks": ""
            },
            "colorscale": [
             [
              0,
              "#0d0887"
             ],
             [
              0.1111111111111111,
              "#46039f"
             ],
             [
              0.2222222222222222,
              "#7201a8"
             ],
             [
              0.3333333333333333,
              "#9c179e"
             ],
             [
              0.4444444444444444,
              "#bd3786"
             ],
             [
              0.5555555555555556,
              "#d8576b"
             ],
             [
              0.6666666666666666,
              "#ed7953"
             ],
             [
              0.7777777777777778,
              "#fb9f3a"
             ],
             [
              0.8888888888888888,
              "#fdca26"
             ],
             [
              1,
              "#f0f921"
             ]
            ],
            "type": "heatmap"
           }
          ],
          "histogram": [
           {
            "marker": {
             "pattern": {
              "fillmode": "overlay",
              "size": 10,
              "solidity": 0.2
             }
            },
            "type": "histogram"
           }
          ],
          "histogram2d": [
           {
            "colorbar": {
             "outlinewidth": 0,
             "ticks": ""
            },
            "colorscale": [
             [
              0,
              "#0d0887"
             ],
             [
              0.1111111111111111,
              "#46039f"
             ],
             [
              0.2222222222222222,
              "#7201a8"
             ],
             [
              0.3333333333333333,
              "#9c179e"
             ],
             [
              0.4444444444444444,
              "#bd3786"
             ],
             [
              0.5555555555555556,
              "#d8576b"
             ],
             [
              0.6666666666666666,
              "#ed7953"
             ],
             [
              0.7777777777777778,
              "#fb9f3a"
             ],
             [
              0.8888888888888888,
              "#fdca26"
             ],
             [
              1,
              "#f0f921"
             ]
            ],
            "type": "histogram2d"
           }
          ],
          "histogram2dcontour": [
           {
            "colorbar": {
             "outlinewidth": 0,
             "ticks": ""
            },
            "colorscale": [
             [
              0,
              "#0d0887"
             ],
             [
              0.1111111111111111,
              "#46039f"
             ],
             [
              0.2222222222222222,
              "#7201a8"
             ],
             [
              0.3333333333333333,
              "#9c179e"
             ],
             [
              0.4444444444444444,
              "#bd3786"
             ],
             [
              0.5555555555555556,
              "#d8576b"
             ],
             [
              0.6666666666666666,
              "#ed7953"
             ],
             [
              0.7777777777777778,
              "#fb9f3a"
             ],
             [
              0.8888888888888888,
              "#fdca26"
             ],
             [
              1,
              "#f0f921"
             ]
            ],
            "type": "histogram2dcontour"
           }
          ],
          "mesh3d": [
           {
            "colorbar": {
             "outlinewidth": 0,
             "ticks": ""
            },
            "type": "mesh3d"
           }
          ],
          "parcoords": [
           {
            "line": {
             "colorbar": {
              "outlinewidth": 0,
              "ticks": ""
             }
            },
            "type": "parcoords"
           }
          ],
          "pie": [
           {
            "automargin": true,
            "type": "pie"
           }
          ],
          "scatter": [
           {
            "fillpattern": {
             "fillmode": "overlay",
             "size": 10,
             "solidity": 0.2
            },
            "type": "scatter"
           }
          ],
          "scatter3d": [
           {
            "line": {
             "colorbar": {
              "outlinewidth": 0,
              "ticks": ""
             }
            },
            "marker": {
             "colorbar": {
              "outlinewidth": 0,
              "ticks": ""
             }
            },
            "type": "scatter3d"
           }
          ],
          "scattercarpet": [
           {
            "marker": {
             "colorbar": {
              "outlinewidth": 0,
              "ticks": ""
             }
            },
            "type": "scattercarpet"
           }
          ],
          "scattergeo": [
           {
            "marker": {
             "colorbar": {
              "outlinewidth": 0,
              "ticks": ""
             }
            },
            "type": "scattergeo"
           }
          ],
          "scattergl": [
           {
            "marker": {
             "colorbar": {
              "outlinewidth": 0,
              "ticks": ""
             }
            },
            "type": "scattergl"
           }
          ],
          "scattermap": [
           {
            "marker": {
             "colorbar": {
              "outlinewidth": 0,
              "ticks": ""
             }
            },
            "type": "scattermap"
           }
          ],
          "scattermapbox": [
           {
            "marker": {
             "colorbar": {
              "outlinewidth": 0,
              "ticks": ""
             }
            },
            "type": "scattermapbox"
           }
          ],
          "scatterpolar": [
           {
            "marker": {
             "colorbar": {
              "outlinewidth": 0,
              "ticks": ""
             }
            },
            "type": "scatterpolar"
           }
          ],
          "scatterpolargl": [
           {
            "marker": {
             "colorbar": {
              "outlinewidth": 0,
              "ticks": ""
             }
            },
            "type": "scatterpolargl"
           }
          ],
          "scatterternary": [
           {
            "marker": {
             "colorbar": {
              "outlinewidth": 0,
              "ticks": ""
             }
            },
            "type": "scatterternary"
           }
          ],
          "surface": [
           {
            "colorbar": {
             "outlinewidth": 0,
             "ticks": ""
            },
            "colorscale": [
             [
              0,
              "#0d0887"
             ],
             [
              0.1111111111111111,
              "#46039f"
             ],
             [
              0.2222222222222222,
              "#7201a8"
             ],
             [
              0.3333333333333333,
              "#9c179e"
             ],
             [
              0.4444444444444444,
              "#bd3786"
             ],
             [
              0.5555555555555556,
              "#d8576b"
             ],
             [
              0.6666666666666666,
              "#ed7953"
             ],
             [
              0.7777777777777778,
              "#fb9f3a"
             ],
             [
              0.8888888888888888,
              "#fdca26"
             ],
             [
              1,
              "#f0f921"
             ]
            ],
            "type": "surface"
           }
          ],
          "table": [
           {
            "cells": {
             "fill": {
              "color": "#EBF0F8"
             },
             "line": {
              "color": "white"
             }
            },
            "header": {
             "fill": {
              "color": "#C8D4E3"
             },
             "line": {
              "color": "white"
             }
            },
            "type": "table"
           }
          ]
         },
         "layout": {
          "annotationdefaults": {
           "arrowcolor": "#2a3f5f",
           "arrowhead": 0,
           "arrowwidth": 1
          },
          "autotypenumbers": "strict",
          "coloraxis": {
           "colorbar": {
            "outlinewidth": 0,
            "ticks": ""
           }
          },
          "colorscale": {
           "diverging": [
            [
             0,
             "#8e0152"
            ],
            [
             0.1,
             "#c51b7d"
            ],
            [
             0.2,
             "#de77ae"
            ],
            [
             0.3,
             "#f1b6da"
            ],
            [
             0.4,
             "#fde0ef"
            ],
            [
             0.5,
             "#f7f7f7"
            ],
            [
             0.6,
             "#e6f5d0"
            ],
            [
             0.7,
             "#b8e186"
            ],
            [
             0.8,
             "#7fbc41"
            ],
            [
             0.9,
             "#4d9221"
            ],
            [
             1,
             "#276419"
            ]
           ],
           "sequential": [
            [
             0,
             "#0d0887"
            ],
            [
             0.1111111111111111,
             "#46039f"
            ],
            [
             0.2222222222222222,
             "#7201a8"
            ],
            [
             0.3333333333333333,
             "#9c179e"
            ],
            [
             0.4444444444444444,
             "#bd3786"
            ],
            [
             0.5555555555555556,
             "#d8576b"
            ],
            [
             0.6666666666666666,
             "#ed7953"
            ],
            [
             0.7777777777777778,
             "#fb9f3a"
            ],
            [
             0.8888888888888888,
             "#fdca26"
            ],
            [
             1,
             "#f0f921"
            ]
           ],
           "sequentialminus": [
            [
             0,
             "#0d0887"
            ],
            [
             0.1111111111111111,
             "#46039f"
            ],
            [
             0.2222222222222222,
             "#7201a8"
            ],
            [
             0.3333333333333333,
             "#9c179e"
            ],
            [
             0.4444444444444444,
             "#bd3786"
            ],
            [
             0.5555555555555556,
             "#d8576b"
            ],
            [
             0.6666666666666666,
             "#ed7953"
            ],
            [
             0.7777777777777778,
             "#fb9f3a"
            ],
            [
             0.8888888888888888,
             "#fdca26"
            ],
            [
             1,
             "#f0f921"
            ]
           ]
          },
          "colorway": [
           "#636efa",
           "#EF553B",
           "#00cc96",
           "#ab63fa",
           "#FFA15A",
           "#19d3f3",
           "#FF6692",
           "#B6E880",
           "#FF97FF",
           "#FECB52"
          ],
          "font": {
           "color": "#2a3f5f"
          },
          "geo": {
           "bgcolor": "white",
           "lakecolor": "white",
           "landcolor": "#E5ECF6",
           "showlakes": true,
           "showland": true,
           "subunitcolor": "white"
          },
          "hoverlabel": {
           "align": "left"
          },
          "hovermode": "closest",
          "mapbox": {
           "style": "light"
          },
          "paper_bgcolor": "white",
          "plot_bgcolor": "#E5ECF6",
          "polar": {
           "angularaxis": {
            "gridcolor": "white",
            "linecolor": "white",
            "ticks": ""
           },
           "bgcolor": "#E5ECF6",
           "radialaxis": {
            "gridcolor": "white",
            "linecolor": "white",
            "ticks": ""
           }
          },
          "scene": {
           "xaxis": {
            "backgroundcolor": "#E5ECF6",
            "gridcolor": "white",
            "gridwidth": 2,
            "linecolor": "white",
            "showbackground": true,
            "ticks": "",
            "zerolinecolor": "white"
           },
           "yaxis": {
            "backgroundcolor": "#E5ECF6",
            "gridcolor": "white",
            "gridwidth": 2,
            "linecolor": "white",
            "showbackground": true,
            "ticks": "",
            "zerolinecolor": "white"
           },
           "zaxis": {
            "backgroundcolor": "#E5ECF6",
            "gridcolor": "white",
            "gridwidth": 2,
            "linecolor": "white",
            "showbackground": true,
            "ticks": "",
            "zerolinecolor": "white"
           }
          },
          "shapedefaults": {
           "line": {
            "color": "#2a3f5f"
           }
          },
          "ternary": {
           "aaxis": {
            "gridcolor": "white",
            "linecolor": "white",
            "ticks": ""
           },
           "baxis": {
            "gridcolor": "white",
            "linecolor": "white",
            "ticks": ""
           },
           "bgcolor": "#E5ECF6",
           "caxis": {
            "gridcolor": "white",
            "linecolor": "white",
            "ticks": ""
           }
          },
          "title": {
           "x": 0.05
          },
          "xaxis": {
           "automargin": true,
           "gridcolor": "white",
           "linecolor": "white",
           "ticks": "",
           "title": {
            "standoff": 15
           },
           "zerolinecolor": "white",
           "zerolinewidth": 2
          },
          "yaxis": {
           "automargin": true,
           "gridcolor": "white",
           "linecolor": "white",
           "ticks": "",
           "title": {
            "standoff": 15
           },
           "zerolinecolor": "white",
           "zerolinewidth": 2
          }
         }
        }
       }
      },
      "image/png": "[encoded data removed]"
     },
     "metadata": {},
     "output_type": "display_data"
    }
   ],
   "source": [
    "import plotly.express as px\n",
    "import plotly.graph_objects as go\n",
    "\n",
    "# 3D scatter of data\n",
    "fig = px.scatter_3d(df, x='col1', y='col2', z='target')\n",
    "\n",
    "# Regression surface\n",
    "fig.add_trace(go.Surface(\n",
    "    x = xGrid, \n",
    "    y = yGrid, \n",
    "    z = z, \n",
    "    colorscale=\"viridis\", \n",
    "    \n",
    "    opacity=0.6\n",
    "))\n",
    "\n",
    "fig.show()\n"
   ]
  },
  {
   "cell_type": "code",
   "execution_count": 28,
   "id": "15e618f3-239d-41f7-94b3-079edeb12fa5",
   "metadata": {},
   "outputs": [
    {
     "data": {
      "text/plain": [
       "array([68.35470341, 30.00783854])"
      ]
     },
     "execution_count": 28,
     "metadata": {},
     "output_type": "execute_result"
    }
   ],
   "source": [
    "lr.coef_ # beta 1 , beta 2 "
   ]
  },
  {
   "cell_type": "code",
   "execution_count": 30,
   "id": "5c0938d1-08ed-43c2-b2f9-940eb6b16aa3",
   "metadata": {},
   "outputs": [
    {
     "data": {
      "text/plain": [
       "np.float64(-3.7258146525669673)"
      ]
     },
     "execution_count": 30,
     "metadata": {},
     "output_type": "execute_result"
    }
   ],
   "source": [
    "lr.intercept_ # beta  nod"
   ]
  },
  {
   "cell_type": "code",
   "execution_count": null,
   "id": "85c1f72b-7071-49bd-9a63-09040d80550c",
   "metadata": {},
   "outputs": [],
   "source": []
  }
 ],
 "metadata": {
  "kernelspec": {
   "display_name": "Python 3 (ipykernel)",
   "language": "python",
   "name": "python3"
  },
  "language_info": {
   "codemirror_mode": {
    "name": "ipython",
    "version": 3
   },
   "file_extension": ".py",
   "mimetype": "text/x-python",
   "name": "python",
   "nbconvert_exporter": "python",
   "pygments_lexer": "ipython3",
   "version": "3.13.1"
  }
 },
 "nbformat": 4,
 "nbformat_minor": 5
}
